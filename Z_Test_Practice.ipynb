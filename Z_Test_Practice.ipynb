{
 "cells": [
  {
   "cell_type": "markdown",
   "id": "05f7de48-9d59-45c0-afa5-55df0288413b",
   "metadata": {},
   "source": [
    "<h1> Testing Methods for 2 Sample Z test Example </h1>"
   ]
  },
  {
   "cell_type": "code",
   "execution_count": 46,
   "id": "441c0e05-3427-42e2-a97a-a4d4ebaee4a2",
   "metadata": {},
   "outputs": [],
   "source": [
    "from matplotlib import pyplot as plt\n",
    "import seaborn as sns\n",
    "import numpy as np\n",
    "import pandas as pd\n",
    "from scipy.stats import ttest_ind\n",
    "import scipy.stats.distributions as dist\n",
    "import math\n",
    "from statistics import stdev\n",
    "from statsmodels.stats.proportion import proportions_ztest\n",
    "# can we assume anything from our sample\n",
    "alpha = 0.05"
   ]
  },
  {
   "cell_type": "code",
   "execution_count": 3,
   "id": "4c3fda6a-f512-46fc-bd5e-bdd864d135c4",
   "metadata": {},
   "outputs": [
    {
     "data": {
      "text/html": [
       "<div>\n",
       "<style scoped>\n",
       "    .dataframe tbody tr th:only-of-type {\n",
       "        vertical-align: middle;\n",
       "    }\n",
       "\n",
       "    .dataframe tbody tr th {\n",
       "        vertical-align: top;\n",
       "    }\n",
       "\n",
       "    .dataframe thead th {\n",
       "        text-align: right;\n",
       "    }\n",
       "</style>\n",
       "<table border=\"1\" class=\"dataframe\">\n",
       "  <thead>\n",
       "    <tr style=\"text-align: right;\">\n",
       "      <th></th>\n",
       "      <th>Age</th>\n",
       "      <th>Sex</th>\n",
       "      <th>ChestPainType</th>\n",
       "      <th>RestingBP</th>\n",
       "      <th>Cholesterol</th>\n",
       "      <th>FastingBS</th>\n",
       "      <th>RestingECG</th>\n",
       "      <th>MaxHR</th>\n",
       "      <th>ExerciseAngina</th>\n",
       "      <th>Oldpeak</th>\n",
       "      <th>ST_Slope</th>\n",
       "      <th>HeartDisease</th>\n",
       "    </tr>\n",
       "  </thead>\n",
       "  <tbody>\n",
       "    <tr>\n",
       "      <th>0</th>\n",
       "      <td>40</td>\n",
       "      <td>M</td>\n",
       "      <td>ATA</td>\n",
       "      <td>140</td>\n",
       "      <td>289</td>\n",
       "      <td>0</td>\n",
       "      <td>Normal</td>\n",
       "      <td>172</td>\n",
       "      <td>N</td>\n",
       "      <td>0.0</td>\n",
       "      <td>Up</td>\n",
       "      <td>0</td>\n",
       "    </tr>\n",
       "    <tr>\n",
       "      <th>1</th>\n",
       "      <td>49</td>\n",
       "      <td>F</td>\n",
       "      <td>NAP</td>\n",
       "      <td>160</td>\n",
       "      <td>180</td>\n",
       "      <td>0</td>\n",
       "      <td>Normal</td>\n",
       "      <td>156</td>\n",
       "      <td>N</td>\n",
       "      <td>1.0</td>\n",
       "      <td>Flat</td>\n",
       "      <td>1</td>\n",
       "    </tr>\n",
       "    <tr>\n",
       "      <th>2</th>\n",
       "      <td>37</td>\n",
       "      <td>M</td>\n",
       "      <td>ATA</td>\n",
       "      <td>130</td>\n",
       "      <td>283</td>\n",
       "      <td>0</td>\n",
       "      <td>ST</td>\n",
       "      <td>98</td>\n",
       "      <td>N</td>\n",
       "      <td>0.0</td>\n",
       "      <td>Up</td>\n",
       "      <td>0</td>\n",
       "    </tr>\n",
       "    <tr>\n",
       "      <th>3</th>\n",
       "      <td>48</td>\n",
       "      <td>F</td>\n",
       "      <td>ASY</td>\n",
       "      <td>138</td>\n",
       "      <td>214</td>\n",
       "      <td>0</td>\n",
       "      <td>Normal</td>\n",
       "      <td>108</td>\n",
       "      <td>Y</td>\n",
       "      <td>1.5</td>\n",
       "      <td>Flat</td>\n",
       "      <td>1</td>\n",
       "    </tr>\n",
       "    <tr>\n",
       "      <th>4</th>\n",
       "      <td>54</td>\n",
       "      <td>M</td>\n",
       "      <td>NAP</td>\n",
       "      <td>150</td>\n",
       "      <td>195</td>\n",
       "      <td>0</td>\n",
       "      <td>Normal</td>\n",
       "      <td>122</td>\n",
       "      <td>N</td>\n",
       "      <td>0.0</td>\n",
       "      <td>Up</td>\n",
       "      <td>0</td>\n",
       "    </tr>\n",
       "    <tr>\n",
       "      <th>...</th>\n",
       "      <td>...</td>\n",
       "      <td>...</td>\n",
       "      <td>...</td>\n",
       "      <td>...</td>\n",
       "      <td>...</td>\n",
       "      <td>...</td>\n",
       "      <td>...</td>\n",
       "      <td>...</td>\n",
       "      <td>...</td>\n",
       "      <td>...</td>\n",
       "      <td>...</td>\n",
       "      <td>...</td>\n",
       "    </tr>\n",
       "    <tr>\n",
       "      <th>913</th>\n",
       "      <td>45</td>\n",
       "      <td>M</td>\n",
       "      <td>TA</td>\n",
       "      <td>110</td>\n",
       "      <td>264</td>\n",
       "      <td>0</td>\n",
       "      <td>Normal</td>\n",
       "      <td>132</td>\n",
       "      <td>N</td>\n",
       "      <td>1.2</td>\n",
       "      <td>Flat</td>\n",
       "      <td>1</td>\n",
       "    </tr>\n",
       "    <tr>\n",
       "      <th>914</th>\n",
       "      <td>68</td>\n",
       "      <td>M</td>\n",
       "      <td>ASY</td>\n",
       "      <td>144</td>\n",
       "      <td>193</td>\n",
       "      <td>1</td>\n",
       "      <td>Normal</td>\n",
       "      <td>141</td>\n",
       "      <td>N</td>\n",
       "      <td>3.4</td>\n",
       "      <td>Flat</td>\n",
       "      <td>1</td>\n",
       "    </tr>\n",
       "    <tr>\n",
       "      <th>915</th>\n",
       "      <td>57</td>\n",
       "      <td>M</td>\n",
       "      <td>ASY</td>\n",
       "      <td>130</td>\n",
       "      <td>131</td>\n",
       "      <td>0</td>\n",
       "      <td>Normal</td>\n",
       "      <td>115</td>\n",
       "      <td>Y</td>\n",
       "      <td>1.2</td>\n",
       "      <td>Flat</td>\n",
       "      <td>1</td>\n",
       "    </tr>\n",
       "    <tr>\n",
       "      <th>916</th>\n",
       "      <td>57</td>\n",
       "      <td>F</td>\n",
       "      <td>ATA</td>\n",
       "      <td>130</td>\n",
       "      <td>236</td>\n",
       "      <td>0</td>\n",
       "      <td>LVH</td>\n",
       "      <td>174</td>\n",
       "      <td>N</td>\n",
       "      <td>0.0</td>\n",
       "      <td>Flat</td>\n",
       "      <td>1</td>\n",
       "    </tr>\n",
       "    <tr>\n",
       "      <th>917</th>\n",
       "      <td>38</td>\n",
       "      <td>M</td>\n",
       "      <td>NAP</td>\n",
       "      <td>138</td>\n",
       "      <td>175</td>\n",
       "      <td>0</td>\n",
       "      <td>Normal</td>\n",
       "      <td>173</td>\n",
       "      <td>N</td>\n",
       "      <td>0.0</td>\n",
       "      <td>Up</td>\n",
       "      <td>0</td>\n",
       "    </tr>\n",
       "  </tbody>\n",
       "</table>\n",
       "<p>918 rows × 12 columns</p>\n",
       "</div>"
      ],
      "text/plain": [
       "     Age Sex ChestPainType  RestingBP  Cholesterol  FastingBS RestingECG  \\\n",
       "0     40   M           ATA        140          289          0     Normal   \n",
       "1     49   F           NAP        160          180          0     Normal   \n",
       "2     37   M           ATA        130          283          0         ST   \n",
       "3     48   F           ASY        138          214          0     Normal   \n",
       "4     54   M           NAP        150          195          0     Normal   \n",
       "..   ...  ..           ...        ...          ...        ...        ...   \n",
       "913   45   M            TA        110          264          0     Normal   \n",
       "914   68   M           ASY        144          193          1     Normal   \n",
       "915   57   M           ASY        130          131          0     Normal   \n",
       "916   57   F           ATA        130          236          0        LVH   \n",
       "917   38   M           NAP        138          175          0     Normal   \n",
       "\n",
       "     MaxHR ExerciseAngina  Oldpeak ST_Slope  HeartDisease  \n",
       "0      172              N      0.0       Up             0  \n",
       "1      156              N      1.0     Flat             1  \n",
       "2       98              N      0.0       Up             0  \n",
       "3      108              Y      1.5     Flat             1  \n",
       "4      122              N      0.0       Up             0  \n",
       "..     ...            ...      ...      ...           ...  \n",
       "913    132              N      1.2     Flat             1  \n",
       "914    141              N      3.4     Flat             1  \n",
       "915    115              Y      1.2     Flat             1  \n",
       "916    174              N      0.0     Flat             1  \n",
       "917    173              N      0.0       Up             0  \n",
       "\n",
       "[918 rows x 12 columns]"
      ]
     },
     "execution_count": 3,
     "metadata": {},
     "output_type": "execute_result"
    }
   ],
   "source": [
    "# Load CSV file\n",
    "heart_csv = pd.read_csv(\"data/heart.csv\")\n",
    "heart_csv"
   ]
  },
  {
   "cell_type": "code",
   "execution_count": 37,
   "id": "74dcd79b-c907-4f9f-a260-5ce729113f9d",
   "metadata": {},
   "outputs": [
    {
     "data": {
      "text/plain": [
       "Text(33.0, 0.5, 'Exercise Angina')"
      ]
     },
     "execution_count": 37,
     "metadata": {},
     "output_type": "execute_result"
    },
    {
     "data": {
      "image/png": "[encoded data removed]",
      "text/plain": [
       "<Figure size 432x288 with 2 Axes>"
      ]
     },
     "metadata": {
      "needs_background": "light"
     },
     "output_type": "display_data"
    }
   ],
   "source": [
    "#creating cross tab to form heatmap \n",
    "#showing sex with Heart Disease\n",
    "heat_sex = pd.crosstab(heart_csv['ExerciseAngina'],heart_csv['HeartDisease'], \n",
    "                       values = heart_csv[\"HeartDisease\"], aggfunc= 'count')\n",
    "\n",
    "#heat map of sexes with heart disease\n",
    "sns.heatmap(heat_sex,annot=True, cmap= 'Reds',fmt='g')\n",
    "#labels for heatmap\n",
    "plt.title('Heatmap of Exercise Angina', fontsize = 20) # title with fontsize 20\n",
    "plt.xlabel('Heart Disease', fontsize = 15) # x-axis label with fontsize 15\n",
    "plt.ylabel('Exercise Angina', fontsize = 15) # y-axis label with fontsize 15"
   ]
  },
  {
   "cell_type": "markdown",
   "id": "a274744d-f10b-4bf5-901c-e3a3b00eff9d",
   "metadata": {},
   "source": [
    "<h2> Method 1 </h2> \n",
    "<h4> Using statsmodels package </h4>\n",
    "\n",
    "<p> From the crosstab created from above, we know from above the exercise angina (EA) positive and negative values of those who have heart disease, and once you add the two columns together for the exercise angina values, you have the total from the dataset </p>\n",
    "<p> For this statstical test, we are using a 2-sample proportion Z test as we are trying to determine if the proportion of individuals with Exercise Angina with heard disease is greater than that of individuasl without Exercise Angina with heart disease.</p>\n",
    "<p> H<sub>O</sub>:  p<sub>Y</sub> = p<sub>N</sub></p>\n",
    "<p> H<sub>A</sub>: p<sub>Y</sub>  $\\neq$p<sub>N</sub></p>\n",
    "<p> Use the information from the cross tab to fill in the sample_HD_YEA (the amount of people with positive EA), sample_size_YEA, sample_HD_NEA, sample_size_NEA</p>"
   ]
  },
  {
   "cell_type": "code",
   "execution_count": 6,
   "id": "2e33628a-6277-4030-8475-9d7c3fb250d4",
   "metadata": {},
   "outputs": [],
   "source": [
    "sample_HD_YEA, sample_size_YEA = (192, 547)\n",
    "sample_HD_NEA, sample_size_NEA = (316, 371)"
   ]
  },
  {
   "cell_type": "code",
   "execution_count": 7,
   "id": "f8650dcf-d0ae-434b-a39e-ff7f9c23ae24",
   "metadata": {},
   "outputs": [],
   "source": [
    "# check our sample against Ho for Ha != Ho\n",
    "successes = np.array([sample_HD_YEA, sample_HD_NEA])\n",
    "samples = np.array([sample_size_YEA, sample_size_NEA])"
   ]
  },
  {
   "cell_type": "code",
   "execution_count": 8,
   "id": "79a1504a-ef5b-4701-a346-c4a87ec478e9",
   "metadata": {},
   "outputs": [],
   "source": [
    "# note, no need for a Ho value here - it's derived from the other parameters\n",
    "stat, p_value = proportions_ztest(count=successes, nobs=samples,  alternative='two-sided')"
   ]
  },
  {
   "cell_type": "code",
   "execution_count": 9,
   "id": "a6e0ff63-fef3-43a7-8cd2-d3f33c950f4f",
   "metadata": {},
   "outputs": [
    {
     "name": "stdout",
     "output_type": "stream",
     "text": [
      "z_stat: -14.976, p_value: 0.000\n"
     ]
    }
   ],
   "source": [
    "# report\n",
    "print('z_stat: %0.3f, p_value: %0.3f' % (stat, p_value))"
   ]
  },
  {
   "cell_type": "code",
   "execution_count": 38,
   "id": "044ce7fd-845c-4944-b9de-d8c6b5b40498",
   "metadata": {},
   "outputs": [
    {
     "name": "stdout",
     "output_type": "stream",
     "text": [
      "Our p-value is: 0.000. We reject the null hypothesis. There is sufficient evidence at alpha = 0.05 to suggest that the population proportion for those with exercise angina who have heart disease is not equal to that of people who do not have exercise angina.\n"
     ]
    }
   ],
   "source": [
    "if p_value > alpha:\n",
    "    print('Our p-value is: %0.3f. We Fail to reject the null hypothesis. There is not sufficient evidence at alpha = %.02f to suggest that the population proportion for those with exercise angina who have heart disease is not equal to that of those who do not have exercise angina.' % (p_value, alpha))\n",
    "else:\n",
    "    print('Our p-value is: %0.3f. We reject the null hypothesis. There is sufficient evidence at alpha = %.02f to suggest that the population proportion for those with exercise angina who have heart disease is not equal to that of people who do not have exercise angina.' % (p_value, alpha))"
   ]
  },
  {
   "cell_type": "markdown",
   "id": "41fb1d27-a94d-4977-9c8c-87a52217b7bf",
   "metadata": {},
   "source": [
    "<h2> Method 2</h2>\n",
    "<h4> calculating it by \"hand\"</h4>"
   ]
  },
  {
   "cell_type": "code",
   "execution_count": 34,
   "id": "b0e94393-00b9-4504-9a9c-a99f8104577d",
   "metadata": {},
   "outputs": [
    {
     "name": "stdout",
     "output_type": "stream",
     "text": [
      "The p hat for exercise angina postive individuals is: 0.852. The value of the sample: 371.\n"
     ]
    }
   ],
   "source": [
    "#Calculating P hat and Q hat for men\n",
    "#calculate p hat\n",
    "EAY_p = heart_csv[(heart_csv[\"ExerciseAngina\"] == \"Y\")][\"HeartDisease\"].mean()\n",
    "#calculate n1\n",
    "EAY_n = heart_csv[heart_csv.ExerciseAngina==\"Y\"].shape[0]\n",
    "\n",
    "#print the values of the p hat and n1\n",
    "print(\"The p hat for exercise angina postive individuals is: %.3f. The value of the sample: %.0f.\" % (exangY_p, exangY_n))"
   ]
  },
  {
   "cell_type": "code",
   "execution_count": 35,
   "id": "6e1aa285-b422-466f-b30d-29ff7b2fdf96",
   "metadata": {},
   "outputs": [
    {
     "name": "stdout",
     "output_type": "stream",
     "text": [
      "The p hat for exercise angina negative individuals is: 0.351. The value of the sample: 547.\n"
     ]
    }
   ],
   "source": [
    "#Calculating P hat and Q hat for men\n",
    "#calculate p hat\n",
    "EAN_p = heart_csv[(heart_csv[\"ExerciseAngina\"] == \"N\")][\"HeartDisease\"].mean()\n",
    "#calculate n1\n",
    "EAN_n = heart_csv[heart_csv.ExerciseAngina==\"N\"].shape[0]\n",
    "\n",
    "#print the values of the p hat and n1\n",
    "print(\"The p hat for exercise angina negative individuals is: %.3f. The value of the sample: %.0f.\" % (exangN_p, exangN_n))"
   ]
  },
  {
   "cell_type": "markdown",
   "id": "5badbf25-3421-429b-b0c6-658142186e99",
   "metadata": {},
   "source": [
    "<p> These values are constant with the values we found within the cross tab. We will check those values another way below using a proportion column</p>"
   ]
  },
  {
   "cell_type": "code",
   "execution_count": 31,
   "id": "2be0a8a6-d97a-4772-94aa-cc89a36f8a15",
   "metadata": {},
   "outputs": [
    {
     "data": {
      "text/html": [
       "<div>\n",
       "<style scoped>\n",
       "    .dataframe tbody tr th:only-of-type {\n",
       "        vertical-align: middle;\n",
       "    }\n",
       "\n",
       "    .dataframe tbody tr th {\n",
       "        vertical-align: top;\n",
       "    }\n",
       "\n",
       "    .dataframe thead th {\n",
       "        text-align: right;\n",
       "    }\n",
       "</style>\n",
       "<table border=\"1\" class=\"dataframe\">\n",
       "  <thead>\n",
       "    <tr style=\"text-align: right;\">\n",
       "      <th></th>\n",
       "      <th>proportions_with_Heart_Disease</th>\n",
       "      <th>total_counts</th>\n",
       "    </tr>\n",
       "    <tr>\n",
       "      <th>ExerciseAngina</th>\n",
       "      <th></th>\n",
       "      <th></th>\n",
       "    </tr>\n",
       "  </thead>\n",
       "  <tbody>\n",
       "    <tr>\n",
       "      <th>N</th>\n",
       "      <td>0.351005</td>\n",
       "      <td>547</td>\n",
       "    </tr>\n",
       "    <tr>\n",
       "      <th>Y</th>\n",
       "      <td>0.851752</td>\n",
       "      <td>371</td>\n",
       "    </tr>\n",
       "  </tbody>\n",
       "</table>\n",
       "</div>"
      ],
      "text/plain": [
       "                proportions_with_Heart_Disease  total_counts\n",
       "ExerciseAngina                                              \n",
       "N                                     0.351005           547\n",
       "Y                                     0.851752           371"
      ]
     },
     "execution_count": 31,
     "metadata": {},
     "output_type": "execute_result"
    }
   ],
   "source": [
    "#This table helps us to calculate the SE.\n",
    "prop = heart_csv.groupby(\"ExerciseAngina\")[\"HeartDisease\"].agg([lambda z: np.mean(z==1), \"size\"])\n",
    "prop.columns = ['proportions_with_Heart_Disease','total_counts']\n",
    "prop.head()"
   ]
  },
  {
   "cell_type": "markdown",
   "id": "ec4b6458-ac12-4816-8610-e128d599df73",
   "metadata": {},
   "source": [
    "<p> Now that we know what the values are known, we can apply them to the equation for the z test statistic.\n",
    "The 2 sample Z Test for proportions test statistics is as follows:\n",
    "    $$Z = (\\hat{p_1} - \\hat{p_2})/ \\sqrt{ \\hat{pc}(1-\\hat{pc})(1/n_1 + 1/n_2)}$$\n",
    "    </p>\n",
    "    <p> in our case: those values those variables are as follows: </p>\n",
    "    \n",
    "    "
   ]
  },
  {
   "cell_type": "markdown",
   "id": "f12a1540-b306-4af8-b452-7f02f4044a0b",
   "metadata": {},
   "source": [
    "<ul>\n",
    "    <li> Z: the number of standard deviations a value is from the center</li>\n",
    "        <li>$\\hat{p_y}$: proportion of people with Exercise Angina with heart disease</li>\n",
    "        <li>$\\hat{p_n}$: proportion of people without Exercise Angina with heart disease</li> \n",
    "        <li>$\\hat{p_c}$: The two combined or pooled proportion of success (has heart disease) </li>\n",
    "        <li> $n_y$: the total sample size of those with Exercicse Angina </li>\n",
    "        <li> $n_n$: the total sample size of those without Exercicse Angina  </li>\n",
    "</ul>"
   ]
  },
  {
   "cell_type": "code",
   "execution_count": 39,
   "id": "4f977fb0-0bf6-4085-8528-69b8572ac2c5",
   "metadata": {},
   "outputs": [
    {
     "name": "stdout",
     "output_type": "stream",
     "text": [
      "Sample Standard Error 0.03343657814549315\n"
     ]
    }
   ],
   "source": [
    "\n",
    "total_proportion_HD = (heart_csv.HeartDisease == 1).mean()\n",
    "\n",
    "#Calculating standard error\n",
    " \n",
    "variance = total_proportion_HD * (1 - total_proportion_HD)\n",
    "standard_error = np.sqrt(variance * (1 / prop.total_counts.N + 1 / prop.total_counts.Y))\n",
    "print(\"Sample Standard Error\",standard_error)"
   ]
  },
  {
   "cell_type": "code",
   "execution_count": 41,
   "id": "596f5824-cae2-4165-a7ee-90ee90856f49",
   "metadata": {},
   "outputs": [
    {
     "name": "stdout",
     "output_type": "stream",
     "text": [
      "The best estimate is 0.5007465371026476\n",
      "Computed Test Statistic is 14.976010252117927\n"
     ]
    }
   ],
   "source": [
    "# Calculate the test statistic \n",
    "best_estimate = (prop.proportions_with_Heart_Disease.Y - prop.proportions_with_Heart_Disease.N )\n",
    "print(\"The best estimate is\",best_estimate)\n",
    "hypothesized_estimate = 0\n",
    "test_stat = (best_estimate-hypothesized_estimate) / standard_error\n",
    "print(\"Computed Test Statistic is\",test_stat)"
   ]
  },
  {
   "cell_type": "code",
   "execution_count": 47,
   "id": "709a7041-b296-4f6a-ba1a-3e44947bd919",
   "metadata": {},
   "outputs": [
    {
     "name": "stdout",
     "output_type": "stream",
     "text": [
      "Computed P-value is 1.053546511099004e-50\n",
      "Our pvalue is 1.053546511099004e-50 . There is sufficient evidence at alpha = 0.05 to suggest that the true population proportion of those with exerice angina who have heart disease is greater than that of the true population proportion who do not have exercise angina who have heart disease\n"
     ]
    }
   ],
   "source": [
    "# Calculate the  p-value\n",
    "pvalue = 2*dist.norm.cdf(-np.abs(test_stat)) # Multiplied by two indicates a two tailed testing.\n",
    "print(\"Computed P-value is\", pvalue)\n",
    "print(\"Our pvalue is\", pvalue, \". There is sufficient evidence at alpha = 0.05 to suggest that the true population proportion of those with exerice angina who have heart disease is greater than that of the true population proportion who do not have exercise angina who have heart disease\")"
   ]
  },
  {
   "cell_type": "markdown",
   "id": "935005f7-c8ba-4309-a04d-9e1c6de2beae",
   "metadata": {},
   "source": [
    "Because the z score is higher than 3, we can assume that the pvalue is 0. Any value of z after 3 is assumed to be 0.\n",
    "<p> Our p-value is 0. We reject the null hypothesis. There is sufficient evidence at alpha = 0.05 to suggest that the population proportion for men with heart disease is not equal to that of women.</p>"
   ]
  },
  {
   "cell_type": "code",
   "execution_count": null,
   "id": "ad2040d5-ed97-4958-818c-3b1b6ed76275",
   "metadata": {},
   "outputs": [],
   "source": []
  },
  {
   "cell_type": "code",
   "execution_count": null,
   "id": "5352423b-9699-4fa5-afd7-18ccd717572d",
   "metadata": {},
   "outputs": [],
   "source": []
  }
 ],
 "metadata": {
  "kernelspec": {
   "display_name": "Python 3 (ipykernel)",
   "language": "python",
   "name": "python3"
  },
  "language_info": {
   "codemirror_mode": {
    "name": "ipython",
    "version": 3
   },
   "file_extension": ".py",
   "mimetype": "text/x-python",
   "name": "python",
   "nbconvert_exporter": "python",
   "pygments_lexer": "ipython3",
   "version": "3.9.7"
  }
 },
 "nbformat": 4,
 "nbformat_minor": 5
}
