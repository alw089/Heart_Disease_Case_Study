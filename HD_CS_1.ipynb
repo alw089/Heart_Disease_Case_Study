{
 "cells": [
  {
   "cell_type": "markdown",
   "id": "9698d840-3d79-4d6b-9711-1c730dc6365d",
   "metadata": {},
   "source": [
    "<h2><b><u>Case Study: Heart Disease Dataset </u></b></h2>\n",
    "<h2> Part 1 of 3: Exploratory Data Analysis </h2>"
   ]
  },
  {
   "cell_type": "markdown",
   "id": "bf1c39d3-0c80-48e9-98a2-9fde4561cc34",
   "metadata": {},
   "source": [
    "<h2> Background </h2>\n",
    "<p>Cardiovascular diseases (CVDs) are the number 1 cause of death globally, taking an estimated 17.9 million lives each year, which accounts for 31% of all deaths worldwide. ⅘ of CVD deaths are due to heart attacks and strokes, and ⅓  of these deaths occur prematurely in people under 70 years of age. Heart failure is a common event caused by CVDs and this dataset contains 11 features that can be used to predict a possible heart disease.\n",
    "People with cardiovascular disease need early detection and management wherein a machine learning model can be of great help to indicate key factors of heart disease.</p>\n",
    "\n",
    "<h3> Dataset Background </h3>\n",
    "<p> The Heart Failure Prediction Dataset is a conglomoerate dataset of indepenent pre-existing datasets. The datasets were combined over their 11 common features. The sources of the conglomoerate datasets that capture the data are:</p>\n",
    "    <ul>\n",
    "        <li>Cleveland: 303 Observations </li>\n",
    "        <li> Hungarian: 294 Observations </li> \n",
    "        <li> Switzerland: 123 Observations </li>\n",
    "        <li> Long Beach VA: 200 Observations </li>\n",
    "        <li> Stalog Heart Data Set: 270 Observations </li>\n",
    "    </ul>\n",
    "<p>The final dataset had 918 observations (272 observations were repeated from the 1190 total observations) aswell as 12 attributes</p>\n",
    "<p> <h4>The 12 attributes include the following</h4></p>\n",
    " <ul>\n",
    "        <li>Age:int, ranging from 28-77 </li>\n",
    "        <li> Sex:char,[M: Male, F: Female]</li> \n",
    "        <li> Chest Pain Type:string, 4 Types </li>\n",
    "                <ul> <li> Typical Angina </li>\n",
    "                <li> Atypical Angina </li>\n",
    "                <li> Non-Anginal Pain </li>\n",
    "                <li> Asymptomatic </li> </ul>  \n",
    "        <li> Resting Blood Pressure: int ranging from 80-200 </li>\n",
    "        <li> Cholesterol: int ranging from 0-400</li>\n",
    "        <li>Fasting Blood Sugar:bool, 1: if FastingBS > 120, 0: if otherwise </li>\n",
    "        <li> Resting ECG: string, resting ECG results: Normal, LVH,  ST </li> \n",
    "        <li> Max Heart Rate:int ranging between 60-202 </li>\n",
    "        <li> Exercise Angina: exercise-induced Angina [Y: Yes, N: No] </li> \n",
    "        <li> Oldpeak: int, ranging between -2.6-6.2</li>\n",
    "        <li> ST_Slope: The slope of the peak exercise ST segment</li> \n",
    "                <ul> <li> Up: upsloping </li>\n",
    "                    <li> Flat: flat slope </li>\n",
    "                    <li> Down: Downsloping </li>\n",
    "               </ul>\n",
    "        <li> Heart Disease: output class [1: heart disease positive, 0: Normal heart]</li>\n",
    "    </ul> \n",
    "\n"
   ]
  },
  {
   "cell_type": "markdown",
   "id": "b0b688ef-115d-43e5-bfa7-8459ba7d3411",
   "metadata": {},
   "source": [
    "<h3><b><i>Goal</i></b></h3>\n",
    "<p> With the magnitude of how deadly heart disease is, and how it occurs prematurely with individuals under 70 in many cases, what, if any, are indicators to help pre diagnose individuals who share attributes with those who have experienced CVD? </p>\n",
    "\n",
    "<p>It is our goal to determine how the above attributes correlate with heart disease, determine if those findings are significant, and create a prediction to evaluate ones's risk of heart disease based on their attributes values using correlation calculations, decision tree classifications, and logistic regression model. </p>\n",
    "\n",
    "<h3><b> This Case Study: Exploratory Data Analysis</b> </h3>\n",
    "<p> Within our exploratory data analysis (EDA), we want to get a general understanding of the dataset and the variables alike </p>\n",
    "<h4><b>Loading the Data</b></h4>"
   ]
  },
  {
   "cell_type": "code",
   "execution_count": 4,
   "id": "8bb29f93-5da8-4e0e-8a0e-7dbd09aae8bc",
   "metadata": {},
   "outputs": [],
   "source": [
    "from matplotlib import pyplot as plt\n",
    "import numpy as np\n",
    "import pandas as pd\n",
    "import math\n",
    "import seaborn as sns"
   ]
  },
  {
   "cell_type": "code",
   "execution_count": 2,
   "id": "fb8fa6e8-47a0-4abf-bf27-ea5fbc4c99d8",
   "metadata": {},
   "outputs": [],
   "source": [
    "# Load CSV file\n",
    "heart_csv = pd.read_csv(\"data/heart.csv\")"
   ]
  },
  {
   "cell_type": "markdown",
   "id": "e4756baa-639e-4437-9c7c-b91dd6d0b9ed",
   "metadata": {},
   "source": [
    "<h3> Exploring the Data </h3>\n",
    "Use the <b>describe function</b> to investigate what variables are included within the dataset"
   ]
  },
  {
   "cell_type": "code",
   "execution_count": 4,
   "id": "e61f033d-1d71-4eb7-a4a1-aa8bee52f51c",
   "metadata": {},
   "outputs": [],
   "source": [
    "#this gives the descriptive statistics for all of the following qualitative variables \n",
    "#the describe function gives a lot of information about the variables in interest.\n",
    "\n"
   ]
  },
  {
   "cell_type": "markdown",
   "id": "38d1cd01-291e-4d35-a1fa-03ab62a181da",
   "metadata": {},
   "source": [
    "<h4> Investingating the Variables</h4>\n",
    "To determine how many individuals in this dataset have heart disease, <b>create a countplot </b>"
   ]
  },
  {
   "cell_type": "code",
   "execution_count": null,
   "id": "6ad7b5ec-48b1-4396-9e73-c31e27b7ac14",
   "metadata": {},
   "outputs": [],
   "source": [
    "# Create a countplot to show the amount of people with and without heart disease\n",
    "\n",
    "countplot = __________(x='HeartDisease', data=heart_csv, color=\"Orange\")\n",
    "countplot.set_title('Frequency of Heart Disease in \"heart.csv\"')\n",
    "countplot.set_xlabel(['No Disease', 'Diseased'])\n",
    "countplot.set_ylabel('Frequency')\n",
    "\n",
    "print(heart_csv['HeartDisease'].value_counts())"
   ]
  },
  {
   "cell_type": "markdown",
   "id": "c271515a-074b-4964-ba55-2fdb99b2366d",
   "metadata": {},
   "source": [
    "<h4> Age Variable </h4>\n",
    "intervelled <b> bar plot </b> shows which age groups have the most heart disease.\n",
    "This graph has been <b> done for you </b> but you will be expected to do similar graphs with other variables later on"
   ]
  },
  {
   "cell_type": "code",
   "execution_count": 6,
   "id": "727053b1-b453-4a15-87f5-02f5233c2fdd",
   "metadata": {},
   "outputs": [
    {
     "name": "stdout",
     "output_type": "stream",
     "text": [
      "          HeartDisease\n",
      "Age                   \n",
      "(20, 30]      0.000000\n",
      "(30, 40]      0.363636\n",
      "(40, 50]      0.417040\n",
      "(50, 60]      0.582677\n",
      "(60, 70]      0.736041\n",
      "(70, 80]      0.666667\n"
     ]
    },
    {
     "data": {
      "image/png": "[encoded data removed]",
      "text/plain": [
       "<Figure size 432x288 with 1 Axes>"
      ]
     },
     "metadata": {
      "needs_background": "light"
     },
     "output_type": "display_data"
    }
   ],
   "source": [
    "##Graph already done for you\n",
    "# Groups Age from 20 to 90 by an increment of 10 and takes the mean of all the HeartDisease values in each group\n",
    "heart_age_df = heart_csv.groupby(pd.cut(heart_csv[\"Age\"], np.arange(20, 90, 10))).mean()\n",
    "print(heart_age_df[[\"HeartDisease\"]])\n",
    "\n",
    "# Creates a barplot of the Age groups on the x-axis and the mean HeartDisease on the y-axis\n",
    "heart_age_plot = sns.barplot(x = heart_age_df.index, y = \"HeartDisease\", data = heart_age_df, color = \"blue\")\n",
    "\n",
    "heart_age_plot.axes.set_title(\"Age Vs Heart Disease\")\n",
    "\n",
    "plt.xlabel(\"Age\")\n",
    "plt.ylabel(\"Proportion of population with heart disease\")\n",
    "plt.show()"
   ]
  },
  {
   "cell_type": "markdown",
   "id": "67bc0101-5965-454a-bbf2-9dff691daf54",
   "metadata": {},
   "source": [
    "<h4>Age Histograms </h4>\n",
    "\n",
    "The histogram indicates the common ages of individuals who are heart disease positive, visualizing it in 10 year groupings. The histogram is skewed left with the peak being at 60,70, indicating that most positive heart disease patients lie that age bracket.\n",
    "\n",
    "<h3> Blood Pressure Analysis</h3>\n",
    "create a <b> pivot table </b> to summarize the RestingBP values"
   ]
  },
  {
   "cell_type": "code",
   "execution_count": 8,
   "id": "59247cb0-bb83-412a-8cd0-ac6a8f9b06ec",
   "metadata": {},
   "outputs": [],
   "source": [
    "#Plot using pivot_table function, create a pivot table for the Resting BP value.\n",
    "pivot_BP = heart_csv.________(values=\"_______\", index=\"Age\", aggfunc=[np.sum, np.mean, np.min, np.max, np.std])"
   ]
  },
  {
   "cell_type": "code",
   "execution_count": null,
   "id": "88374ed9-80de-473d-a3f1-9de48340abf3",
   "metadata": {},
   "outputs": [],
   "source": [
    "#from the Pivot Table created above, use a plot to show the relationship between Resting blood pressure and age (the index)\n",
    "#this has been prepared for you\n",
    "plt.plot(pivot_BP.index, pivot_BP[\"mean\"])\n",
    "plt.xticks(pivot_BP.index, rotation=90)\n",
    "plt.xlabel(\"Age\")\n",
    "plt.ylabel(\"Resting Blood Sugar Level\")\n",
    "plt.show()"
   ]
  },
  {
   "cell_type": "markdown",
   "id": "c849fd49-7cb0-47b0-a1e8-6932030acce9",
   "metadata": {},
   "source": [
    "Using the second age histogram as an example, <b>create the same plot for resting blood pressure.</b>"
   ]
  },
  {
   "cell_type": "code",
   "execution_count": 9,
   "id": "25f41668-b51b-4027-88ba-b87164aaa905",
   "metadata": {},
   "outputs": [],
   "source": [
    "# Group RestingBP from 60 to 240 by an increment of 30 and takes the mean of all the HeartDisease values in each group\n",
    "\n",
    "# Creates a barplot of the RestingBP groups on the x-axis and the mean HeartDisease on the y-axis\n",
    "\n",
    "#label the axis"
   ]
  },
  {
   "cell_type": "markdown",
   "id": "7286aa4d-0dc6-4cc7-a692-82f1307297cc",
   "metadata": {},
   "source": [
    "<p> The above two visualizations are very telling of the data. Age and resting blood pressure have an positive linear correlation and as do resting blood pressure and heart disease. We determined above that age and heart disease were also a linear correlation with having positive heart disease, so these findings are accurate </p>\n",
    "\n",
    "<h3> Old Peak Analysis </h3>\n",
    "Create another incrementing plot as the resting blood pressure and age for Old Peak"
   ]
  },
  {
   "cell_type": "code",
   "execution_count": 10,
   "id": "4621a8fe-489b-4c26-80b0-eaad7be7fe6f",
   "metadata": {},
   "outputs": [],
   "source": [
    "# Groups Oldpeak from 0 to 5.5 by an increment of .5 and takes the mean of all the values in each group\n",
    "\n",
    "# Creates a barplot of the Oldpeak groups on the x-axis and the mean HeartDisease on the y-axis\n",
    "\n",
    "#label the axis\n"
   ]
  },
  {
   "cell_type": "code",
   "execution_count": null,
   "id": "35d0084b-7f4c-471f-98c9-f0a71ac55a7d",
   "metadata": {},
   "outputs": [],
   "source": [
    "# Create line graph to show differences in Old peak between individuals with and without Heart Disease\n",
    "\n",
    "heart_line = sns.lineplot(data=heart_csv, x='Age',y='______', hue='______', ci=None)\n",
    "heart_line.set_title(\"Old Peak by Age hued on Heart Disease\")"
   ]
  },
  {
   "cell_type": "markdown",
   "id": "8cea9c10-716b-4ebc-9175-edde7076ca14",
   "metadata": {},
   "source": [
    "<p>It appears that the individuals with heart disease has a higher oldpeak value that those who do not have heart disease.</p>\n",
    "<h3> Sexes variable </h3>\n",
    "<p> To understand if either sex has greater ratio of having heart disease, we evaluated the sexes with a cross tab heat map</p>\n",
    "<b> this has been done for you </b>"
   ]
  },
  {
   "cell_type": "code",
   "execution_count": 3,
   "id": "04dc756b-271b-428a-8b7a-d63f263d7d6d",
   "metadata": {},
   "outputs": [
    {
     "data": {
      "text/plain": [
       "Text(33.0, 0.5, 'Sex of Patients')"
      ]
     },
     "execution_count": 3,
     "metadata": {},
     "output_type": "execute_result"
    },
    {
     "data": {
      "image/png": "[encoded data removed]",
      "text/plain": [
       "<Figure size 432x288 with 2 Axes>"
      ]
     },
     "metadata": {
      "needs_background": "light"
     },
     "output_type": "display_data"
    }
   ],
   "source": [
    "#creating cross tab to form heatmap \n",
    "#showing sex with Heart Disease\n",
    "heat_sex = pd.crosstab(heart_csv['Sex'],heart_csv['HeartDisease'], \n",
    "                       values = heart_csv[\"HeartDisease\"], aggfunc= 'count')\n",
    "\n",
    "#heat map of sexes with heart disease\n",
    "sns.heatmap(heat_sex,annot=True, cmap= 'Reds',fmt='g')\n",
    "#labels for heatmap\n",
    "plt.title('Heatmap of Sexes', fontsize = 20) # title with fontsize 20\n",
    "plt.xlabel('Heart Disease', fontsize = 15) # x-axis label with fontsize 15\n",
    "plt.ylabel('Sex of Patients', fontsize = 15) # y-axis label with fontsize 15"
   ]
  },
  {
   "cell_type": "markdown",
   "id": "02115afb-ab26-47f2-aa2d-e7b2342991ab",
   "metadata": {},
   "source": [
    "<b>Determine the proportion of women within the population that has heart disease</b> in the same manner of the male population below."
   ]
  },
  {
   "cell_type": "code",
   "execution_count": 13,
   "id": "2c582c21-9505-49a0-b287-7921084c8026",
   "metadata": {},
   "outputs": [
    {
     "name": "stdout",
     "output_type": "stream",
     "text": [
      "Portion of men with heart disease in the dataset 0.6317241379310344\n"
     ]
    }
   ],
   "source": [
    "# The values of the HeartDisease column are 1 and 0, with 1 being a positive case of heart disease and 0 being\n",
    "# negative for heart disease. Therefore, we can get the proportion of heart disease for different populations by\n",
    "# taking the average of HeartDisease for each population.\n",
    "# Proportion of men with heart disease\n",
    "heart_M_count = heart_csv[(heart_csv[\"Sex\"] == \"M\")][\"HeartDisease\"].mean()\n",
    "print(\"Portion of men with heart disease in the dataset\", heart_M_count)\n",
    "# Preprare the same proportions for women with heart disease\n"
   ]
  },
  {
   "cell_type": "markdown",
   "id": "0796923b-755b-489a-b849-c87ccaea82b2",
   "metadata": {},
   "source": [
    " <b> Create the following plot:</b>\n",
    " A heatmap that determines the ages that women and men tend to ubtain heart disease. (Hint: use the heatmap made above as an example)"
   ]
  },
  {
   "cell_type": "code",
   "execution_count": 1,
   "id": "5a45fd3a-8601-488f-819e-854e9d358137",
   "metadata": {},
   "outputs": [],
   "source": [
    "# Create heatmap to show which age range and gender is most likely to have heart disease by count function\n",
    "\n",
    "# Create a crosstab in order to create a heatmap\n"
   ]
  },
  {
   "cell_type": "markdown",
   "id": "aebad0fe-f414-4ba7-8609-198f919abf33",
   "metadata": {},
   "source": [
    "The above plots show that there is a skewed number of men and women in the dataset. Specifically, men have a way higher chance of having heart disease, and of the men who are apart of this dataset, 63% have heart disease, whereas the women of this dataset only 26% have heart disease. Moreover, men in their early to late 50s appear to have such disease.\n",
    "\n",
    "<h3> Chest Pain Type Variable</h3>\n",
    "Create a <b>Pairplot</b> to determine how the Chest Pain Type variable interacts with the other variables in the dataset "
   ]
  },
  {
   "cell_type": "code",
   "execution_count": 16,
   "id": "ae226d07-ef51-4883-9d1c-3ba985b52f33",
   "metadata": {},
   "outputs": [],
   "source": [
    "#pairplots create a whole view of how each variable relate to one another. \n",
    "\n"
   ]
  },
  {
   "cell_type": "markdown",
   "id": "33764e52-0db1-424c-96f6-e6ba95e5ec4e",
   "metadata": {},
   "source": [
    "<h4>Chest Pain Type Analysis </h4>\n",
    "\n",
    "The majority of our patients appear to have asymptomatic pain, meaning that their is very little or no chest pain, therefore it would be hard to use actual pain to determine if one has heart disease\n",
    "\n",
    "<h3> Cholesterol Variable </h3>\n",
    "<b>Create another incremental</b> for cholesterol to determine if there are any level of cholesterol that shows more significant valuues of heart disease"
   ]
  },
  {
   "cell_type": "code",
   "execution_count": null,
   "id": "2f8845df-204a-4bd5-9164-cd212f51b9e3",
   "metadata": {},
   "outputs": [],
   "source": []
  },
  {
   "cell_type": "markdown",
   "id": "316318e3-f9be-46eb-9626-c549928ac12f",
   "metadata": {},
   "source": [
    "<b>Question:</b>\n",
    "from the variables tested above, which variables appear to have an affect on heart disease?\n",
    "\n",
    "<h2> Next Part </h2>\n",
    "The next part of this Case Study is to determine if our exploratory interpretation and observations are valid using statistical tests such as hypothesis tests "
   ]
  }
 ],
 "metadata": {
  "kernelspec": {
   "display_name": "Python 3 (ipykernel)",
   "language": "python",
   "name": "python3"
  },
  "language_info": {
   "codemirror_mode": {
    "name": "ipython",
    "version": 3
   },
   "file_extension": ".py",
   "mimetype": "text/x-python",
   "name": "python",
   "nbconvert_exporter": "python",
   "pygments_lexer": "ipython3",
   "version": "3.9.7"
  }
 },
 "nbformat": 4,
 "nbformat_minor": 5
}
